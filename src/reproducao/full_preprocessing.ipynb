{
 "cells": [
  {
   "cell_type": "markdown",
   "metadata": {},
   "source": [
    "# setup"
   ]
  },
  {
   "cell_type": "code",
   "execution_count": 1,
   "metadata": {},
   "outputs": [
    {
     "name": "stdout",
     "output_type": "stream",
     "text": [
      "c:\\Users\\Pichau\\Documents\\git\\lesaude\\strodthoff2024prospects\\src\n"
     ]
    }
   ],
   "source": [
    "import os\n",
    "\n",
    "# isso aqui é so sair da pasta de reproducao\n",
    "if os.getcwd().split('/')[-1] == 'reproducao' or os.getcwd().split('\\\\')[-1] == 'reproducao':\n",
    "    os.chdir('..')\n",
    "    print(os.getcwd())"
   ]
  },
  {
   "cell_type": "code",
   "execution_count": 2,
   "metadata": {},
   "outputs": [],
   "source": [
    "import argparse\n",
    "import pandas as pd\n",
    "import numpy as np\n",
    "\n",
    "from pathlib import Path\n",
    "from tqdm.auto import tqdm\n",
    "from icdmappings import Mapper"
   ]
  },
  {
   "cell_type": "code",
   "execution_count": 3,
   "metadata": {},
   "outputs": [],
   "source": [
    "from extract_headers import extract_and_open_files_in_zip\n",
    "# from ecg_utils import prepare_mimicecg\n",
    "from reproducao_ecg_utils import prepare_mimicecg\n",
    "from clinical_ts.timeseries_utils import reformat_as_memmap\n",
    "from utils.stratify import stratified_subsets\n",
    "from mimic_ecg_preprocessing import prepare_mimic_ecg"
   ]
  },
  {
   "cell_type": "markdown",
   "metadata": {},
   "source": [
    "# parser"
   ]
  },
  {
   "cell_type": "code",
   "execution_count": 4,
   "metadata": {},
   "outputs": [
    {
     "data": {
      "text/plain": [
       "_StoreTrueAction(option_strings=['--numpy-memmap'], dest='numpy_memmap', nargs=0, const=True, default=False, type=None, choices=None, required=False, help='convert to numpy and memmap for fast access', metavar=None)"
      ]
     },
     "execution_count": 4,
     "metadata": {},
     "output_type": "execute_result"
    }
   ],
   "source": [
    "parser = argparse.ArgumentParser(description='A script to extract two paths from the command line.')\n",
    "\n",
    "parser.add_argument('--mimic-path', help='path to mimic iv folder with subfolders hosp and ed',default=\"./mimic\")\n",
    "parser.add_argument('--zip-path', help='path to mimic ecg zip',default=\"mimic-iv-ecg-diagnostic-electrocardiogram-matched-subset-1.0.zip\")\n",
    "parser.add_argument('--target-path', help='desired output path',default=\"./\")\n",
    "\n",
    "parser.add_argument('--numpy-memmap', help='convert to numpy and memmap for fast access', action='store_true')"
   ]
  },
  {
   "cell_type": "code",
   "execution_count": 5,
   "metadata": {},
   "outputs": [],
   "source": [
    "args = parser.parse_args([\n",
    "    # '--mimic-path',\n",
    "    '--zip-path', 'D:\\datasets\\MIMIC-IV-ECG-DEMO\\mimic-iv-ecg-diagnostic-electrocardiogram-matched-subset-1.0.zip', \n",
    "    '--target-path', 'D:\\datasets\\MIMIC-IV-ECG-DEMO', \n",
    "    '--numpy-memmap'\n",
    "])"
   ]
  },
  {
   "cell_type": "code",
   "execution_count": 6,
   "metadata": {},
   "outputs": [],
   "source": [
    "mimic_path = Path(args.mimic_path)\n",
    "zip_file_path = Path(args.zip_path)\n",
    "target_path = Path(args.target_path)\n",
    "\n",
    "numpy_memmap = args.numpy_memmap"
   ]
  },
  {
   "cell_type": "code",
   "execution_count": 7,
   "metadata": {},
   "outputs": [
    {
     "name": "stdout",
     "output_type": "stream",
     "text": [
      "mimic_path mimic\n",
      "zip_file_path D:\\datasets\\MIMIC-IV-ECG-DEMO\\mimic-iv-ecg-diagnostic-electrocardiogram-matched-subset-1.0.zip\n",
      "target_path D:\\datasets\\MIMIC-IV-ECG-DEMO\n",
      "np memmap True\n"
     ]
    }
   ],
   "source": [
    "print(\"mimic_path\",mimic_path)\n",
    "print(\"zip_file_path\",zip_file_path)\n",
    "print(\"target_path\",target_path)\n",
    "\n",
    "print('np memmap', numpy_memmap)"
   ]
  },
  {
   "cell_type": "markdown",
   "metadata": {},
   "source": [
    "# step i"
   ]
  },
  {
   "cell_type": "markdown",
   "metadata": {},
   "source": [
    "# step ii"
   ]
  },
  {
   "cell_type": "markdown",
   "metadata": {},
   "source": [
    "# step iii"
   ]
  },
  {
   "cell_type": "markdown",
   "metadata": {},
   "source": [
    "# step iv\n",
    "assumindo q os steps i~iii so geram o records_w_diag_icd10.csv, q eu ja tenho"
   ]
  },
  {
   "cell_type": "code",
   "execution_count": 8,
   "metadata": {},
   "outputs": [
    {
     "name": "stdout",
     "output_type": "stream",
     "text": [
      "Step 4: Convert signals into numpy in  target-path/processed\n"
     ]
    },
    {
     "data": {
      "application/vnd.jupyter.widget-view+json": {
       "model_id": "fcab249640214906b26f3ae01e5b749b",
       "version_major": 2,
       "version_minor": 0
      },
      "text/plain": [
       "  0%|          | 0/795 [00:00<?, ?it/s]"
      ]
     },
     "metadata": {},
     "output_type": "display_data"
    }
   ],
   "source": [
    "print(\"Step 4: Convert signals into numpy in  target-path/processed\")\n",
    "(target_path/\"processed\").mkdir(parents=True, exist_ok=True)\n",
    "df, lbl_itos, mean, std = prepare_mimicecg(zip_file_path, target_folder=target_path/\"processed\")"
   ]
  },
  {
   "cell_type": "code",
   "execution_count": 9,
   "metadata": {},
   "outputs": [
    {
     "data": {
      "text/plain": [
       "([],\n",
       " (12,),\n",
       " array([ 0.02234395,  0.0096988 , -0.02103584, -0.00543249, -0.0015773 ,\n",
       "         0.01198231,  0.01950381,  0.01942476, -0.01186351, -0.01652261,\n",
       "         0.01618766, -0.00192103]),\n",
       " (12,),\n",
       " array([0.14511738, 0.14365031, 0.17177061, 0.22615974, 0.2556636 ,\n",
       "        0.21258073, 0.18797287, 0.16898865, 0.14945083, 0.12057124,\n",
       "        0.12942526, 0.12660885]))"
      ]
     },
     "execution_count": 9,
     "metadata": {},
     "output_type": "execute_result"
    }
   ],
   "source": [
    "lbl_itos, mean.shape, mean, std.shape, std"
   ]
  },
  {
   "cell_type": "code",
   "execution_count": 10,
   "metadata": {},
   "outputs": [
    {
     "data": {
      "text/html": [
       "<div>\n",
       "<style scoped>\n",
       "    .dataframe tbody tr th:only-of-type {\n",
       "        vertical-align: middle;\n",
       "    }\n",
       "\n",
       "    .dataframe tbody tr th {\n",
       "        vertical-align: top;\n",
       "    }\n",
       "\n",
       "    .dataframe thead th {\n",
       "        text-align: right;\n",
       "    }\n",
       "</style>\n",
       "<table border=\"1\" class=\"dataframe\">\n",
       "  <thead>\n",
       "    <tr style=\"text-align: right;\">\n",
       "      <th></th>\n",
       "      <th>data</th>\n",
       "      <th>study_id</th>\n",
       "      <th>subject_id</th>\n",
       "      <th>ecg_time</th>\n",
       "      <th>nans</th>\n",
       "      <th>data_mean</th>\n",
       "      <th>data_std</th>\n",
       "      <th>data_length</th>\n",
       "    </tr>\n",
       "  </thead>\n",
       "  <tbody>\n",
       "    <tr>\n",
       "      <th>0</th>\n",
       "      <td>p10000032_s40689238.npy</td>\n",
       "      <td>40689238</td>\n",
       "      <td>10000032</td>\n",
       "      <td>2180-07-23 08:44:00</td>\n",
       "      <td>[0, 0, 0, 0, 0, 0, 0, 0, 0, 0, 0, 0]</td>\n",
       "      <td>[0.009630408, 0.03532677, -0.031451873, 0.0088...</td>\n",
       "      <td>[0.07281055, 0.14797975, 0.18792532, 0.2302735...</td>\n",
       "      <td>1000</td>\n",
       "    </tr>\n",
       "    <tr>\n",
       "      <th>1</th>\n",
       "      <td>p10000032_s44458630.npy</td>\n",
       "      <td>44458630</td>\n",
       "      <td>10000032</td>\n",
       "      <td>2180-07-23 09:54:00</td>\n",
       "      <td>[0, 0, 0, 0, 0, 0, 0, 0, 0, 0, 0, 0]</td>\n",
       "      <td>[-0.007518341, 0.045326464, -0.02693991, 0.007...</td>\n",
       "      <td>[0.114887014, 0.14187548, 0.17410673, 0.177733...</td>\n",
       "      <td>1000</td>\n",
       "    </tr>\n",
       "    <tr>\n",
       "      <th>2</th>\n",
       "      <td>p10000032_s49036311.npy</td>\n",
       "      <td>49036311</td>\n",
       "      <td>10000032</td>\n",
       "      <td>2180-08-06 09:07:00</td>\n",
       "      <td>[0, 0, 0, 0, 0, 0, 0, 0, 0, 0, 0, 0]</td>\n",
       "      <td>[0.007997059, 0.026460905, -0.024007669, 0.052...</td>\n",
       "      <td>[0.051840633, 0.13998532, 0.2794175, 0.2821058...</td>\n",
       "      <td>1000</td>\n",
       "    </tr>\n",
       "    <tr>\n",
       "      <th>3</th>\n",
       "      <td>p10000117_s45090959.npy</td>\n",
       "      <td>45090959</td>\n",
       "      <td>10000117</td>\n",
       "      <td>2181-03-04 17:14:00</td>\n",
       "      <td>[0, 0, 0, 0, 0, 0, 0, 0, 0, 0, 0, 0]</td>\n",
       "      <td>[0.010465137, 0.021142757, -0.013826905, -0.00...</td>\n",
       "      <td>[0.048036855, 0.11462162, 0.08904317, 0.133164...</td>\n",
       "      <td>1000</td>\n",
       "    </tr>\n",
       "    <tr>\n",
       "      <th>4</th>\n",
       "      <td>p10000117_s48446569.npy</td>\n",
       "      <td>48446569</td>\n",
       "      <td>10000117</td>\n",
       "      <td>2183-09-18 13:52:00</td>\n",
       "      <td>[0, 0, 0, 0, 0, 0, 0, 0, 0, 0, 0, 0]</td>\n",
       "      <td>[-0.008585625, -0.0035980744, 0.003333508, -0....</td>\n",
       "      <td>[0.024164824, 0.10800167, 0.07431362, 0.105761...</td>\n",
       "      <td>1000</td>\n",
       "    </tr>\n",
       "    <tr>\n",
       "      <th>...</th>\n",
       "      <td>...</td>\n",
       "      <td>...</td>\n",
       "      <td>...</td>\n",
       "      <td>...</td>\n",
       "      <td>...</td>\n",
       "      <td>...</td>\n",
       "      <td>...</td>\n",
       "      <td>...</td>\n",
       "    </tr>\n",
       "    <tr>\n",
       "      <th>790</th>\n",
       "      <td>p10009686_s41379519.npy</td>\n",
       "      <td>41379519</td>\n",
       "      <td>10009686</td>\n",
       "      <td>2164-04-30 12:29:00</td>\n",
       "      <td>[0, 0, 0, 0, 0, 0, 0, 0, 0, 0, 0, 0]</td>\n",
       "      <td>[0.0049298843, -0.0035996183, -0.011467277, 0....</td>\n",
       "      <td>[0.11335932, 0.10138872, 0.10931915, 0.2127690...</td>\n",
       "      <td>1000</td>\n",
       "    </tr>\n",
       "    <tr>\n",
       "      <th>791</th>\n",
       "      <td>p10009686_s44044511.npy</td>\n",
       "      <td>44044511</td>\n",
       "      <td>10009686</td>\n",
       "      <td>2164-05-02 09:04:00</td>\n",
       "      <td>[0, 0, 0, 0, 0, 0, 0, 0, 0, 0, 0, 0]</td>\n",
       "      <td>[0.013910966, -0.0037329637, 0.0061497223, 0.0...</td>\n",
       "      <td>[0.06650935, 0.099379614, 0.14572562, 0.298641...</td>\n",
       "      <td>1000</td>\n",
       "    </tr>\n",
       "    <tr>\n",
       "      <th>792</th>\n",
       "      <td>p10009686_s46775392.npy</td>\n",
       "      <td>46775392</td>\n",
       "      <td>10009686</td>\n",
       "      <td>2164-05-03 09:13:00</td>\n",
       "      <td>[0, 0, 0, 0, 0, 0, 0, 0, 0, 0, 0, 0]</td>\n",
       "      <td>[0.030772705, 0.02515413, -0.006054813, 0.0431...</td>\n",
       "      <td>[0.10609463, 0.099044584, 0.10871392, 0.244746...</td>\n",
       "      <td>1000</td>\n",
       "    </tr>\n",
       "    <tr>\n",
       "      <th>793</th>\n",
       "      <td>p10009686_s47230643.npy</td>\n",
       "      <td>47230643</td>\n",
       "      <td>10009686</td>\n",
       "      <td>2164-05-02 05:04:00</td>\n",
       "      <td>[0, 0, 0, 0, 0, 0, 0, 0, 0, 0, 0, 0]</td>\n",
       "      <td>[0.0053111403, -0.012775824, 0.01968723, 0.059...</td>\n",
       "      <td>[0.059656657, 0.10166188, 0.1414776, 0.2909714...</td>\n",
       "      <td>1000</td>\n",
       "    </tr>\n",
       "    <tr>\n",
       "      <th>794</th>\n",
       "      <td>p10009686_s47268718.npy</td>\n",
       "      <td>47268718</td>\n",
       "      <td>10009686</td>\n",
       "      <td>2164-04-30 08:39:00</td>\n",
       "      <td>[0, 0, 0, 0, 0, 0, 0, 0, 0, 0, 0, 0]</td>\n",
       "      <td>[0.021238178, 0.025680108, -0.011482546, 0.033...</td>\n",
       "      <td>[0.08496066, 0.11214662, 0.10279158, 0.2077692...</td>\n",
       "      <td>1000</td>\n",
       "    </tr>\n",
       "  </tbody>\n",
       "</table>\n",
       "<p>795 rows × 8 columns</p>\n",
       "</div>"
      ],
      "text/plain": [
       "                        data  study_id  subject_id            ecg_time  \\\n",
       "0    p10000032_s40689238.npy  40689238    10000032 2180-07-23 08:44:00   \n",
       "1    p10000032_s44458630.npy  44458630    10000032 2180-07-23 09:54:00   \n",
       "2    p10000032_s49036311.npy  49036311    10000032 2180-08-06 09:07:00   \n",
       "3    p10000117_s45090959.npy  45090959    10000117 2181-03-04 17:14:00   \n",
       "4    p10000117_s48446569.npy  48446569    10000117 2183-09-18 13:52:00   \n",
       "..                       ...       ...         ...                 ...   \n",
       "790  p10009686_s41379519.npy  41379519    10009686 2164-04-30 12:29:00   \n",
       "791  p10009686_s44044511.npy  44044511    10009686 2164-05-02 09:04:00   \n",
       "792  p10009686_s46775392.npy  46775392    10009686 2164-05-03 09:13:00   \n",
       "793  p10009686_s47230643.npy  47230643    10009686 2164-05-02 05:04:00   \n",
       "794  p10009686_s47268718.npy  47268718    10009686 2164-04-30 08:39:00   \n",
       "\n",
       "                                     nans  \\\n",
       "0    [0, 0, 0, 0, 0, 0, 0, 0, 0, 0, 0, 0]   \n",
       "1    [0, 0, 0, 0, 0, 0, 0, 0, 0, 0, 0, 0]   \n",
       "2    [0, 0, 0, 0, 0, 0, 0, 0, 0, 0, 0, 0]   \n",
       "3    [0, 0, 0, 0, 0, 0, 0, 0, 0, 0, 0, 0]   \n",
       "4    [0, 0, 0, 0, 0, 0, 0, 0, 0, 0, 0, 0]   \n",
       "..                                    ...   \n",
       "790  [0, 0, 0, 0, 0, 0, 0, 0, 0, 0, 0, 0]   \n",
       "791  [0, 0, 0, 0, 0, 0, 0, 0, 0, 0, 0, 0]   \n",
       "792  [0, 0, 0, 0, 0, 0, 0, 0, 0, 0, 0, 0]   \n",
       "793  [0, 0, 0, 0, 0, 0, 0, 0, 0, 0, 0, 0]   \n",
       "794  [0, 0, 0, 0, 0, 0, 0, 0, 0, 0, 0, 0]   \n",
       "\n",
       "                                             data_mean  \\\n",
       "0    [0.009630408, 0.03532677, -0.031451873, 0.0088...   \n",
       "1    [-0.007518341, 0.045326464, -0.02693991, 0.007...   \n",
       "2    [0.007997059, 0.026460905, -0.024007669, 0.052...   \n",
       "3    [0.010465137, 0.021142757, -0.013826905, -0.00...   \n",
       "4    [-0.008585625, -0.0035980744, 0.003333508, -0....   \n",
       "..                                                 ...   \n",
       "790  [0.0049298843, -0.0035996183, -0.011467277, 0....   \n",
       "791  [0.013910966, -0.0037329637, 0.0061497223, 0.0...   \n",
       "792  [0.030772705, 0.02515413, -0.006054813, 0.0431...   \n",
       "793  [0.0053111403, -0.012775824, 0.01968723, 0.059...   \n",
       "794  [0.021238178, 0.025680108, -0.011482546, 0.033...   \n",
       "\n",
       "                                              data_std  data_length  \n",
       "0    [0.07281055, 0.14797975, 0.18792532, 0.2302735...         1000  \n",
       "1    [0.114887014, 0.14187548, 0.17410673, 0.177733...         1000  \n",
       "2    [0.051840633, 0.13998532, 0.2794175, 0.2821058...         1000  \n",
       "3    [0.048036855, 0.11462162, 0.08904317, 0.133164...         1000  \n",
       "4    [0.024164824, 0.10800167, 0.07431362, 0.105761...         1000  \n",
       "..                                                 ...          ...  \n",
       "790  [0.11335932, 0.10138872, 0.10931915, 0.2127690...         1000  \n",
       "791  [0.06650935, 0.099379614, 0.14572562, 0.298641...         1000  \n",
       "792  [0.10609463, 0.099044584, 0.10871392, 0.244746...         1000  \n",
       "793  [0.059656657, 0.10166188, 0.1414776, 0.2909714...         1000  \n",
       "794  [0.08496066, 0.11214662, 0.10279158, 0.2077692...         1000  \n",
       "\n",
       "[795 rows x 8 columns]"
      ]
     },
     "execution_count": 10,
     "metadata": {},
     "output_type": "execute_result"
    }
   ],
   "source": [
    "df"
   ]
  },
  {
   "cell_type": "code",
   "execution_count": 11,
   "metadata": {},
   "outputs": [
    {
     "data": {
      "text/plain": [
       "((12,),\n",
       " array([ 0.00963041,  0.03532677, -0.03145187,  0.00883729,  0.09649605,\n",
       "         0.10779519,  0.04681917,  0.09716997,  0.01069973, -0.02510957,\n",
       "         0.00718452,  0.01794708], dtype=float32))"
      ]
     },
     "execution_count": 11,
     "metadata": {},
     "output_type": "execute_result"
    }
   ],
   "source": [
    "df['data_mean'].loc[0].shape, df['data_mean'].loc[0]"
   ]
  },
  {
   "cell_type": "code",
   "execution_count": 12,
   "metadata": {},
   "outputs": [
    {
     "data": {
      "text/plain": [
       "(12,\n",
       " [np.int64(0),\n",
       "  np.int64(0),\n",
       "  np.int64(0),\n",
       "  np.int64(0),\n",
       "  np.int64(0),\n",
       "  np.int64(0),\n",
       "  np.int64(0),\n",
       "  np.int64(0),\n",
       "  np.int64(0),\n",
       "  np.int64(0),\n",
       "  np.int64(0),\n",
       "  np.int64(0)])"
      ]
     },
     "execution_count": 12,
     "metadata": {},
     "output_type": "execute_result"
    }
   ],
   "source": [
    "len(df['nans'].loc[0]), df['nans'].loc[0]"
   ]
  },
  {
   "cell_type": "code",
   "execution_count": 13,
   "metadata": {},
   "outputs": [
    {
     "data": {
      "text/plain": [
       "array([1000])"
      ]
     },
     "execution_count": 13,
     "metadata": {},
     "output_type": "execute_result"
    }
   ],
   "source": [
    "np.unique(df['data_length'].values)"
   ]
  },
  {
   "cell_type": "code",
   "execution_count": 14,
   "metadata": {},
   "outputs": [
    {
     "data": {
      "text/plain": [
       "((1000, 12),\n",
       " array([[-0.09837415,  0.0040777 ,  0.03046388, ...,  0.04445874,\n",
       "         -0.09066422,  0.04723709],\n",
       "        [-0.18345611,  0.00055867,  0.05727838, ...,  0.08668837,\n",
       "         -0.16741537,  0.08054018],\n",
       "        [-0.15595649, -0.00672389,  0.05648892, ...,  0.0778864 ,\n",
       "         -0.13521639,  0.05970294],\n",
       "        ...,\n",
       "        [-0.04743117,  0.01431794,  0.00432345, ...,  0.01255923,\n",
       "         -0.03838612,  0.02627621],\n",
       "        [-0.04562546,  0.00911508,  0.00025077, ...,  0.01491976,\n",
       "         -0.03564794,  0.02058002],\n",
       "        [-0.0544023 ,  0.00960257, -0.00634238, ...,  0.01917305,\n",
       "         -0.04313236,  0.02404554]], dtype=float32))"
      ]
     },
     "execution_count": 14,
     "metadata": {},
     "output_type": "execute_result"
    }
   ],
   "source": [
    "sample = np.load(target_path/\"processed\"/'p10000032_s40689238.npy')\n",
    "sample.shape, sample"
   ]
  },
  {
   "cell_type": "markdown",
   "metadata": {},
   "source": [
    "# step v"
   ]
  },
  {
   "cell_type": "code",
   "execution_count": 15,
   "metadata": {},
   "outputs": [
    {
     "name": "stdout",
     "output_type": "stream",
     "text": [
      "Step 5: Reformat as memmap for fast access\n"
     ]
    },
    {
     "data": {
      "application/vnd.jupyter.widget-view+json": {
       "model_id": "f9a6c2c0d79a4ef3a4f309155419ad83",
       "version_major": 2,
       "version_minor": 0
      },
      "text/plain": [
       "  0%|          | 0/795 [00:00<?, ?it/s]"
      ]
     },
     "metadata": {},
     "output_type": "display_data"
    }
   ],
   "source": [
    "print(\"Step 5: Reformat as memmap for fast access\")\n",
    "(target_path/\"memmap\").mkdir(parents=True, exist_ok=True)\n",
    "df_mapped = reformat_as_memmap(df, target_path/\"memmap/memmap.npy\", data_folder=target_path/\"processed\", annotation=False, max_len=0, delete_npys=False, col_data=\"data\",col_lbl=None, batch_length=0, skip_export_signals=False)"
   ]
  },
  {
   "cell_type": "code",
   "execution_count": 16,
   "metadata": {},
   "outputs": [
    {
     "data": {
      "text/html": [
       "<div>\n",
       "<style scoped>\n",
       "    .dataframe tbody tr th:only-of-type {\n",
       "        vertical-align: middle;\n",
       "    }\n",
       "\n",
       "    .dataframe tbody tr th {\n",
       "        vertical-align: top;\n",
       "    }\n",
       "\n",
       "    .dataframe thead th {\n",
       "        text-align: right;\n",
       "    }\n",
       "</style>\n",
       "<table border=\"1\" class=\"dataframe\">\n",
       "  <thead>\n",
       "    <tr style=\"text-align: right;\">\n",
       "      <th></th>\n",
       "      <th>data</th>\n",
       "      <th>study_id</th>\n",
       "      <th>subject_id</th>\n",
       "      <th>ecg_time</th>\n",
       "      <th>nans</th>\n",
       "      <th>data_mean</th>\n",
       "      <th>data_std</th>\n",
       "      <th>data_length</th>\n",
       "      <th>data_original</th>\n",
       "    </tr>\n",
       "  </thead>\n",
       "  <tbody>\n",
       "    <tr>\n",
       "      <th>0</th>\n",
       "      <td>0</td>\n",
       "      <td>40689238</td>\n",
       "      <td>10000032</td>\n",
       "      <td>2180-07-23 08:44:00</td>\n",
       "      <td>[0, 0, 0, 0, 0, 0, 0, 0, 0, 0, 0, 0]</td>\n",
       "      <td>[0.009630408, 0.03532677, -0.031451873, 0.0088...</td>\n",
       "      <td>[0.07281055, 0.14797975, 0.18792532, 0.2302735...</td>\n",
       "      <td>1000</td>\n",
       "      <td>p10000032_s40689238.npy</td>\n",
       "    </tr>\n",
       "    <tr>\n",
       "      <th>1</th>\n",
       "      <td>1</td>\n",
       "      <td>44458630</td>\n",
       "      <td>10000032</td>\n",
       "      <td>2180-07-23 09:54:00</td>\n",
       "      <td>[0, 0, 0, 0, 0, 0, 0, 0, 0, 0, 0, 0]</td>\n",
       "      <td>[-0.007518341, 0.045326464, -0.02693991, 0.007...</td>\n",
       "      <td>[0.114887014, 0.14187548, 0.17410673, 0.177733...</td>\n",
       "      <td>1000</td>\n",
       "      <td>p10000032_s44458630.npy</td>\n",
       "    </tr>\n",
       "    <tr>\n",
       "      <th>2</th>\n",
       "      <td>2</td>\n",
       "      <td>49036311</td>\n",
       "      <td>10000032</td>\n",
       "      <td>2180-08-06 09:07:00</td>\n",
       "      <td>[0, 0, 0, 0, 0, 0, 0, 0, 0, 0, 0, 0]</td>\n",
       "      <td>[0.007997059, 0.026460905, -0.024007669, 0.052...</td>\n",
       "      <td>[0.051840633, 0.13998532, 0.2794175, 0.2821058...</td>\n",
       "      <td>1000</td>\n",
       "      <td>p10000032_s49036311.npy</td>\n",
       "    </tr>\n",
       "    <tr>\n",
       "      <th>3</th>\n",
       "      <td>3</td>\n",
       "      <td>45090959</td>\n",
       "      <td>10000117</td>\n",
       "      <td>2181-03-04 17:14:00</td>\n",
       "      <td>[0, 0, 0, 0, 0, 0, 0, 0, 0, 0, 0, 0]</td>\n",
       "      <td>[0.010465137, 0.021142757, -0.013826905, -0.00...</td>\n",
       "      <td>[0.048036855, 0.11462162, 0.08904317, 0.133164...</td>\n",
       "      <td>1000</td>\n",
       "      <td>p10000117_s45090959.npy</td>\n",
       "    </tr>\n",
       "    <tr>\n",
       "      <th>4</th>\n",
       "      <td>4</td>\n",
       "      <td>48446569</td>\n",
       "      <td>10000117</td>\n",
       "      <td>2183-09-18 13:52:00</td>\n",
       "      <td>[0, 0, 0, 0, 0, 0, 0, 0, 0, 0, 0, 0]</td>\n",
       "      <td>[-0.008585625, -0.0035980744, 0.003333508, -0....</td>\n",
       "      <td>[0.024164824, 0.10800167, 0.07431362, 0.105761...</td>\n",
       "      <td>1000</td>\n",
       "      <td>p10000117_s48446569.npy</td>\n",
       "    </tr>\n",
       "    <tr>\n",
       "      <th>...</th>\n",
       "      <td>...</td>\n",
       "      <td>...</td>\n",
       "      <td>...</td>\n",
       "      <td>...</td>\n",
       "      <td>...</td>\n",
       "      <td>...</td>\n",
       "      <td>...</td>\n",
       "      <td>...</td>\n",
       "      <td>...</td>\n",
       "    </tr>\n",
       "    <tr>\n",
       "      <th>790</th>\n",
       "      <td>790</td>\n",
       "      <td>41379519</td>\n",
       "      <td>10009686</td>\n",
       "      <td>2164-04-30 12:29:00</td>\n",
       "      <td>[0, 0, 0, 0, 0, 0, 0, 0, 0, 0, 0, 0]</td>\n",
       "      <td>[0.0049298843, -0.0035996183, -0.011467277, 0....</td>\n",
       "      <td>[0.11335932, 0.10138872, 0.10931915, 0.2127690...</td>\n",
       "      <td>1000</td>\n",
       "      <td>p10009686_s41379519.npy</td>\n",
       "    </tr>\n",
       "    <tr>\n",
       "      <th>791</th>\n",
       "      <td>791</td>\n",
       "      <td>44044511</td>\n",
       "      <td>10009686</td>\n",
       "      <td>2164-05-02 09:04:00</td>\n",
       "      <td>[0, 0, 0, 0, 0, 0, 0, 0, 0, 0, 0, 0]</td>\n",
       "      <td>[0.013910966, -0.0037329637, 0.0061497223, 0.0...</td>\n",
       "      <td>[0.06650935, 0.099379614, 0.14572562, 0.298641...</td>\n",
       "      <td>1000</td>\n",
       "      <td>p10009686_s44044511.npy</td>\n",
       "    </tr>\n",
       "    <tr>\n",
       "      <th>792</th>\n",
       "      <td>792</td>\n",
       "      <td>46775392</td>\n",
       "      <td>10009686</td>\n",
       "      <td>2164-05-03 09:13:00</td>\n",
       "      <td>[0, 0, 0, 0, 0, 0, 0, 0, 0, 0, 0, 0]</td>\n",
       "      <td>[0.030772705, 0.02515413, -0.006054813, 0.0431...</td>\n",
       "      <td>[0.10609463, 0.099044584, 0.10871392, 0.244746...</td>\n",
       "      <td>1000</td>\n",
       "      <td>p10009686_s46775392.npy</td>\n",
       "    </tr>\n",
       "    <tr>\n",
       "      <th>793</th>\n",
       "      <td>793</td>\n",
       "      <td>47230643</td>\n",
       "      <td>10009686</td>\n",
       "      <td>2164-05-02 05:04:00</td>\n",
       "      <td>[0, 0, 0, 0, 0, 0, 0, 0, 0, 0, 0, 0]</td>\n",
       "      <td>[0.0053111403, -0.012775824, 0.01968723, 0.059...</td>\n",
       "      <td>[0.059656657, 0.10166188, 0.1414776, 0.2909714...</td>\n",
       "      <td>1000</td>\n",
       "      <td>p10009686_s47230643.npy</td>\n",
       "    </tr>\n",
       "    <tr>\n",
       "      <th>794</th>\n",
       "      <td>794</td>\n",
       "      <td>47268718</td>\n",
       "      <td>10009686</td>\n",
       "      <td>2164-04-30 08:39:00</td>\n",
       "      <td>[0, 0, 0, 0, 0, 0, 0, 0, 0, 0, 0, 0]</td>\n",
       "      <td>[0.021238178, 0.025680108, -0.011482546, 0.033...</td>\n",
       "      <td>[0.08496066, 0.11214662, 0.10279158, 0.2077692...</td>\n",
       "      <td>1000</td>\n",
       "      <td>p10009686_s47268718.npy</td>\n",
       "    </tr>\n",
       "  </tbody>\n",
       "</table>\n",
       "<p>795 rows × 9 columns</p>\n",
       "</div>"
      ],
      "text/plain": [
       "     data  study_id  subject_id            ecg_time  \\\n",
       "0       0  40689238    10000032 2180-07-23 08:44:00   \n",
       "1       1  44458630    10000032 2180-07-23 09:54:00   \n",
       "2       2  49036311    10000032 2180-08-06 09:07:00   \n",
       "3       3  45090959    10000117 2181-03-04 17:14:00   \n",
       "4       4  48446569    10000117 2183-09-18 13:52:00   \n",
       "..    ...       ...         ...                 ...   \n",
       "790   790  41379519    10009686 2164-04-30 12:29:00   \n",
       "791   791  44044511    10009686 2164-05-02 09:04:00   \n",
       "792   792  46775392    10009686 2164-05-03 09:13:00   \n",
       "793   793  47230643    10009686 2164-05-02 05:04:00   \n",
       "794   794  47268718    10009686 2164-04-30 08:39:00   \n",
       "\n",
       "                                     nans  \\\n",
       "0    [0, 0, 0, 0, 0, 0, 0, 0, 0, 0, 0, 0]   \n",
       "1    [0, 0, 0, 0, 0, 0, 0, 0, 0, 0, 0, 0]   \n",
       "2    [0, 0, 0, 0, 0, 0, 0, 0, 0, 0, 0, 0]   \n",
       "3    [0, 0, 0, 0, 0, 0, 0, 0, 0, 0, 0, 0]   \n",
       "4    [0, 0, 0, 0, 0, 0, 0, 0, 0, 0, 0, 0]   \n",
       "..                                    ...   \n",
       "790  [0, 0, 0, 0, 0, 0, 0, 0, 0, 0, 0, 0]   \n",
       "791  [0, 0, 0, 0, 0, 0, 0, 0, 0, 0, 0, 0]   \n",
       "792  [0, 0, 0, 0, 0, 0, 0, 0, 0, 0, 0, 0]   \n",
       "793  [0, 0, 0, 0, 0, 0, 0, 0, 0, 0, 0, 0]   \n",
       "794  [0, 0, 0, 0, 0, 0, 0, 0, 0, 0, 0, 0]   \n",
       "\n",
       "                                             data_mean  \\\n",
       "0    [0.009630408, 0.03532677, -0.031451873, 0.0088...   \n",
       "1    [-0.007518341, 0.045326464, -0.02693991, 0.007...   \n",
       "2    [0.007997059, 0.026460905, -0.024007669, 0.052...   \n",
       "3    [0.010465137, 0.021142757, -0.013826905, -0.00...   \n",
       "4    [-0.008585625, -0.0035980744, 0.003333508, -0....   \n",
       "..                                                 ...   \n",
       "790  [0.0049298843, -0.0035996183, -0.011467277, 0....   \n",
       "791  [0.013910966, -0.0037329637, 0.0061497223, 0.0...   \n",
       "792  [0.030772705, 0.02515413, -0.006054813, 0.0431...   \n",
       "793  [0.0053111403, -0.012775824, 0.01968723, 0.059...   \n",
       "794  [0.021238178, 0.025680108, -0.011482546, 0.033...   \n",
       "\n",
       "                                              data_std  data_length  \\\n",
       "0    [0.07281055, 0.14797975, 0.18792532, 0.2302735...         1000   \n",
       "1    [0.114887014, 0.14187548, 0.17410673, 0.177733...         1000   \n",
       "2    [0.051840633, 0.13998532, 0.2794175, 0.2821058...         1000   \n",
       "3    [0.048036855, 0.11462162, 0.08904317, 0.133164...         1000   \n",
       "4    [0.024164824, 0.10800167, 0.07431362, 0.105761...         1000   \n",
       "..                                                 ...          ...   \n",
       "790  [0.11335932, 0.10138872, 0.10931915, 0.2127690...         1000   \n",
       "791  [0.06650935, 0.099379614, 0.14572562, 0.298641...         1000   \n",
       "792  [0.10609463, 0.099044584, 0.10871392, 0.244746...         1000   \n",
       "793  [0.059656657, 0.10166188, 0.1414776, 0.2909714...         1000   \n",
       "794  [0.08496066, 0.11214662, 0.10279158, 0.2077692...         1000   \n",
       "\n",
       "               data_original  \n",
       "0    p10000032_s40689238.npy  \n",
       "1    p10000032_s44458630.npy  \n",
       "2    p10000032_s49036311.npy  \n",
       "3    p10000117_s45090959.npy  \n",
       "4    p10000117_s48446569.npy  \n",
       "..                       ...  \n",
       "790  p10009686_s41379519.npy  \n",
       "791  p10009686_s44044511.npy  \n",
       "792  p10009686_s46775392.npy  \n",
       "793  p10009686_s47230643.npy  \n",
       "794  p10009686_s47268718.npy  \n",
       "\n",
       "[795 rows x 9 columns]"
      ]
     },
     "execution_count": 16,
     "metadata": {},
     "output_type": "execute_result"
    }
   ],
   "source": [
    "df_mapped"
   ]
  },
  {
   "cell_type": "code",
   "execution_count": null,
   "metadata": {},
   "outputs": [],
   "source": []
  }
 ],
 "metadata": {
  "kernelspec": {
   "display_name": "mimicbaseline",
   "language": "python",
   "name": "python3"
  },
  "language_info": {
   "codemirror_mode": {
    "name": "ipython",
    "version": 3
   },
   "file_extension": ".py",
   "mimetype": "text/x-python",
   "name": "python",
   "nbconvert_exporter": "python",
   "pygments_lexer": "ipython3",
   "version": "3.10.12"
  }
 },
 "nbformat": 4,
 "nbformat_minor": 2
}
